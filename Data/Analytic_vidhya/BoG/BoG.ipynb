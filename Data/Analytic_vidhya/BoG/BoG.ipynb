{
 "cells": [
  {
   "cell_type": "code",
   "execution_count": 1,
   "metadata": {
    "collapsed": true
   },
   "outputs": [],
   "source": [
    "import pandas as pd\n",
    "import numpy as np\n",
    "import matplotlib.pyplot as plt\n",
    "import seaborn as sns\n",
    "import warnings\n",
    "#warnings.filterwarnings(action='once')\n",
    "warnings.simplefilter('ignore')\n",
    "import xgboost as xgb\n",
    "from sklearn import model_selection\n",
    "from sklearn.metrics import accuracy_score\n",
    "from sklearn.preprocessing import LabelEncoder\n",
    "from sklearn.preprocessing import OneHotEncoder"
   ]
  },
  {
   "cell_type": "code",
   "execution_count": 2,
   "metadata": {
    "collapsed": true
   },
   "outputs": [],
   "source": [
    "trainbog=pd.read_csv(\"/Users/sandip/Data/Analytic_vidhya/BoG/train_zsTMYVA/train.csv\")\n",
    "testbog=pd.read_csv(\"/Users/sandip/Data/Analytic_vidhya/BoG/test.csv\")"
   ]
  },
  {
   "cell_type": "code",
   "execution_count": 3,
   "metadata": {
    "collapsed": true
   },
   "outputs": [],
   "source": [
    "featuresold=[\"NO_OF_Accs\",\"dependents\",\"C_prev1\",\"D_prev1\",'MC1','MD1','BalanceM1','BalanceM2','BalanceM3',\n",
    "          'BalanceM4','BalanceM5','BalanceM6','count_C_prev1','count_C_prev2','count_C_prev3','count_C_prev4',\n",
    "          'count_C_prev5','count_C_prev6','I_AQB_PrevQ1','I_AQB_PrevQ2','I_NRV_PrevQ1','I_NRV_PrevQ2','Percent_Change_in_Credits']\n",
    "catfeatureold=[\"HNW_CATEGORY\",\"FINAL_WORTH_prev1\",\"ENGAGEMENT_TAG_prev1\",\"OCCUP_ALL_NEW\"]"
   ]
  },
  {
   "cell_type": "code",
   "execution_count": 4,
   "metadata": {
    "collapsed": true
   },
   "outputs": [],
   "source": [
    "features=[\"Responders\",\"NO_OF_Accs\",\"dependents\",\"MonthlyCredit1\",\"MonthlyCredit2\",\"MonthlyCredit3\",\"MonthlyCredit4\",\n",
    "         \"MonthlyCredit5\",\"MonthlyCredit6\",'CNR_prev1','BAL_prev1','CNR_prev2','BAL_prev2','CNR_prev3','BAL_prev3','CNR_prev4',\n",
    "          'BAL_prev4','CNR_prev5','BAL_prev5','CNR_prev6','BAL_prev6','Recency_of_CR_TXN','Recency_of_Activity','L_PREM','L_CLOS'\n",
    "          ,'L_ACTIVE','CASH_WD_CNT_Last6','I_AQB_PrevQ1','I_AQB_PrevQ2','I_NRV_PrevQ1','I_NRV_PrevQ2','Percent_Change_in_Credits']\n",
    "          \n",
    "catfeature=[\"HNW_CATEGORY\",\"FINAL_WORTH_prev1\",\"ENGAGEMENT_TAG_prev1\",'RBI_Class_Audit',\"OCCUP_ALL_NEW\"]"
   ]
  },
  {
   "cell_type": "code",
   "execution_count": 5,
   "metadata": {
    "collapsed": true
   },
   "outputs": [],
   "source": [
    "Testfeatures=[\"NO_OF_Accs\",\"dependents\",\"MonthlyCredit1\",\"MonthlyCredit2\",\"MonthlyCredit3\",\"MonthlyCredit4\",\n",
    "         \"MonthlyCredit5\",\"MonthlyCredit6\",'CNR_prev1','BAL_prev1','CNR_prev2','BAL_prev2','CNR_prev3','BAL_prev3'\n",
    "              ,'CNR_prev4','BAL_prev4','CNR_prev5','BAL_prev5','CNR_prev6','BAL_prev6','Recency_of_CR_TXN'\n",
    "              ,'Recency_of_Activity', 'L_PREM','L_CLOS' ,'L_ACTIVE','CASH_WD_CNT_Last6','I_AQB_PrevQ1','I_AQB_PrevQ2','I_NRV_PrevQ1','I_NRV_PrevQ2','Percent_Change_in_Credits'\n",
    "          ]\n",
    "catfeature=[\"HNW_CATEGORY\",\"FINAL_WORTH_prev1\",\"ENGAGEMENT_TAG_prev1\",'RBI_Class_Audit',\"OCCUP_ALL_NEW\"]"
   ]
  },
  {
   "cell_type": "code",
   "execution_count": 6,
   "metadata": {
    "collapsed": true
   },
   "outputs": [],
   "source": [
    "trainbog[\"NO_OF_Accs\"].loc[trainbog['NO_OF_Accs']>5] = 5\n",
    "trainbog[\"dependents\"].loc[trainbog['dependents']>5] = 5"
   ]
  },
  {
   "cell_type": "code",
   "execution_count": 7,
   "metadata": {
    "collapsed": true
   },
   "outputs": [],
   "source": [
    "trainbog[['EMAIL_UNSUBSCRIBE']]=trainbog[['EMAIL_UNSUBSCRIBE']].fillna('N')\n",
    "trainbog[['OCCUP_ALL_NEW']]=trainbog[['OCCUP_ALL_NEW']].fillna('MISSING')\n",
    "trainbog[['dependents']]=trainbog[['dependents']].fillna(5)\n",
    "trainbog[['FINAL_WORTH_prev1']]=trainbog[['FINAL_WORTH_prev1']].fillna('MEDIUM')\n",
    "trainbog[['ENGAGEMENT_TAG_prev1']]=trainbog[['ENGAGEMENT_TAG_prev1']].fillna('LOW')\n",
    "trainbog[['Recency_of_CR_TXN']]=trainbog[['Recency_of_CR_TXN']].fillna(-1)"
   ]
  },
  {
   "cell_type": "code",
   "execution_count": 7,
   "metadata": {
    "collapsed": true
   },
   "outputs": [],
   "source": [
    "#trainbog.C_prev1.value_counts()\n",
    "y=trainbog.loc[trainbog[\"C_prev1\"]==1]"
   ]
  },
  {
   "cell_type": "code",
   "execution_count": 35,
   "metadata": {},
   "outputs": [
    {
     "data": {
      "image/png": "[encoded data removed]",
      "text/plain": [
       "<matplotlib.figure.Figure at 0x26360fcc0>"
      ]
     },
     "metadata": {},
     "output_type": "display_data"
    }
   ],
   "source": [
    "cnt_srs=trainbog.HNW_CATEGORY.value_counts()\n",
    "plt.figure(figsize=(8,4))\n",
    "sns.countplot(data=trainbog,x=\"FINAL_WORTH_prev1\",hue='Responders')\n",
    "plt.xticks( rotation='vertical')\n",
    "plt.ylabel(\"Number of occurence\")\n",
    "plt.xlabel('HNW')\n",
    "plt.show()"
   ]
  },
  {
   "cell_type": "code",
   "execution_count": 8,
   "metadata": {
    "collapsed": true
   },
   "outputs": [],
   "source": [
    "trainbog[\"C_prev1\"].loc[trainbog['C_prev1']>3435235] = 3435235\n",
    "trainbog[\"D_prev1\"].loc[trainbog['D_prev1']>3455025] = 3455025"
   ]
  },
  {
   "cell_type": "code",
   "execution_count": 92,
   "metadata": {},
   "outputs": [
    {
     "data": {
      "text/plain": [
       "3455025.8300000243"
      ]
     },
     "execution_count": 92,
     "metadata": {},
     "output_type": "execute_result"
    }
   ],
   "source": [
    "np.percentile(trainbog.D_prev1,99)"
   ]
  },
  {
   "cell_type": "code",
   "execution_count": 181,
   "metadata": {},
   "outputs": [
    {
     "data": {
      "image/png": "[encoded data removed]",
      "text/plain": [
       "<matplotlib.figure.Figure at 0x23efe6f60>"
      ]
     },
     "metadata": {},
     "output_type": "display_data"
    }
   ],
   "source": [
    "plt.scatter(trainbog.BalanceM1.values,trainbog.BAL_prev1.values)\n",
    "plt.show()"
   ]
  },
  {
   "cell_type": "code",
   "execution_count": 9,
   "metadata": {
    "collapsed": true
   },
   "outputs": [],
   "source": [
    "trainbog[\"MC1\"]=trainbog['C_prev1']/trainbog['count_C_prev1']\n",
    "trainbog[\"MD1\"]=trainbog['D_prev1']/trainbog['count_D_prev1']"
   ]
  },
  {
   "cell_type": "code",
   "execution_count": 10,
   "metadata": {
    "collapsed": true
   },
   "outputs": [],
   "source": [
    "trainbog['BalanceM1'] = trainbog['C_prev1']-trainbog['D_prev1']\n",
    "trainbog['BalanceM2'] = trainbog['C_prev2']-trainbog['D_prev2']\n",
    "trainbog['BalanceM3'] = trainbog['C_prev3']-trainbog['D_prev3']\n",
    "trainbog['BalanceM4'] = trainbog['C_prev4']-trainbog['D_prev4']\n",
    "trainbog['BalanceM5'] = trainbog['C_prev5']-trainbog['D_prev5']\n",
    "trainbog['BalanceM6'] = trainbog['C_prev6']-trainbog['D_prev6']"
   ]
  },
  {
   "cell_type": "code",
   "execution_count": 11,
   "metadata": {
    "collapsed": true
   },
   "outputs": [],
   "source": [
    "trainbog['MonthlyCredit1']= trainbog['C_prev1']/trainbog['count_C_prev1']\n",
    "trainbog['MonthlyCredit2']= trainbog['C_prev2']/trainbog['count_C_prev2']\n",
    "trainbog['MonthlyCredit3']= trainbog['C_prev3']/trainbog['count_C_prev3']\n",
    "trainbog['MonthlyCredit4']= trainbog['C_prev4']/trainbog['count_C_prev4']\n",
    "trainbog['MonthlyCredit5']= trainbog['C_prev5']/trainbog['count_C_prev5']\n",
    "trainbog['MonthlyCredit6']= trainbog['C_prev6']/trainbog['count_C_prev6']\n",
    "trainbog[['MonthlyCredit1']]=trainbog[['MonthlyCredit1']].fillna(0)\n",
    "trainbog[['MonthlyCredit2']]=trainbog[['MonthlyCredit2']].fillna(0)\n",
    "trainbog[['MonthlyCredit3']]=trainbog[['MonthlyCredit3']].fillna(0)\n",
    "trainbog[['MonthlyCredit4']]=trainbog[['MonthlyCredit4']].fillna(0)\n",
    "trainbog[['MonthlyCredit5']]=trainbog[['MonthlyCredit5']].fillna(0)\n",
    "trainbog[['MonthlyCredit6']]=trainbog[['MonthlyCredit6']].fillna(0)\n",
    "trainbog[['Recency_of_Activity']]=trainbog[['Recency_of_Activity']].fillna(-1)"
   ]
  },
  {
   "cell_type": "code",
   "execution_count": 23,
   "metadata": {
    "scrolled": true
   },
   "outputs": [
    {
     "data": {
      "text/plain": [
       "1.0    86\n",
       "Name: AL_CNC_PREM_CLOSED_PREVQ1, dtype: int64"
      ]
     },
     "execution_count": 23,
     "metadata": {},
     "output_type": "execute_result"
    }
   ],
   "source": [
    "trainbog.AL_CNC_PREM_CLOSED_PREVQ1.value_counts()"
   ]
  },
  {
   "cell_type": "code",
   "execution_count": 14,
   "metadata": {
    "collapsed": true
   },
   "outputs": [],
   "source": [
    "def isLoanActive(a,b,c,d,e,f,g,h,i,j,k,l,m,n,o,p,q,r,s,u,v,w):\n",
    "    if(pd.notnull(a)):\n",
    "        return 1\n",
    "    elif(pd.notnull(b)):\n",
    "        return 1\n",
    "    elif(pd.notnull(c)):\n",
    "        return 1\n",
    "    elif(pd.notnull(d)):\n",
    "        return 1\n",
    "    elif(pd.notnull(e)):\n",
    "        return 1\n",
    "    elif(pd.notnull(f)):\n",
    "        return 1\n",
    "    elif(pd.notnull(g)):\n",
    "        return 1\n",
    "    elif(pd.notnull(h)):\n",
    "        return 1\n",
    "    elif(pd.notnull(i)):\n",
    "        return 1\n",
    "    elif(pd.notnull(j)):\n",
    "        return 1\n",
    "    elif(pd.notnull(k)):\n",
    "        return 1\n",
    "    elif(pd.notnull(l)):\n",
    "        return 1\n",
    "    elif(pd.notnull(m)):\n",
    "        return 1\n",
    "    elif(pd.notnull(n)):\n",
    "        return 1\n",
    "    elif(pd.notnull(o)):\n",
    "        return 1\n",
    "    elif(pd.notnull(p)):\n",
    "        return 1\n",
    "    elif(pd.notnull(q)):\n",
    "        return 1\n",
    "    elif(pd.notnull(s)):\n",
    "        return 1\n",
    "    elif(pd.notnull(r)):\n",
    "        return 1\n",
    "    elif(pd.notnull(u)):\n",
    "        return 1\n",
    "    elif(pd.notnull(v)):\n",
    "        return 1\n",
    "    elif(pd.notnull(w)):\n",
    "        return 1\n",
    "    else:\n",
    "        return 0"
   ]
  },
  {
   "cell_type": "code",
   "execution_count": 15,
   "metadata": {},
   "outputs": [],
   "source": [
    "trainbog[\"L_PREM\"]=trainbog.apply(lambda x : isLoanPremClosed(x['AGRI_PREM_CLOSED_PREVQ1'],x['AL_CNC_PREM_CLOSED_PREVQ1'],\n",
    "                                                           x['AL_PREM_CLOSED_PREVQ1'],x['BL_PREM_CLOSED_PREVQ1'],x['CC_PREM_CLOSED_PREVQ1'],\n",
    "                                                            x['CE_PREM_CLOSED_PREVQ1'],x['CV_PREM_CLOSED_PREVQ1'],x['EDU_PREM_CLOSED_PREVQ1'],\n",
    "                                                            x['OTHER_LOANS_PREM_CLOSED_PREVQ1'],x['PL_PREM_CLOSED_PREVQ1'],\n",
    "                                                            x['RD_PREM_CLOSED_PREVQ1'],x['FD_PREM_CLOSED_PREVQ1'],\n",
    "                                                           x['TL_PREM_CLOSED_PREVQ1'],x['TWL_PREM_CLOSED_PREVQ1']),axis=1)"
   ]
  },
  {
   "cell_type": "code",
   "execution_count": 16,
   "metadata": {
    "collapsed": true
   },
   "outputs": [],
   "source": [
    "trainbog[\"L_CLOS\"]=trainbog.apply(lambda x : isLoanPremClosed(x['AGRI_Closed_PrevQ1'],x['AL_CNC_Closed_PrevQ1'],\n",
    "                                                           x['AL_Closed_PrevQ1'],x['BL_Closed_PrevQ1'],x['CC_CLOSED_PREVQ1'],\n",
    "                                                            x['CE_Closed_PrevQ1'],x['CV_Closed_PrevQ1'],x['EDU_Closed_PrevQ1'],\n",
    "                                                            x['OTHER_LOANS_Closed_PrevQ1'],x['PL_Closed_PrevQ1'],\n",
    "                                                            x['RD_CLOSED_PREVQ1'],x['FD_CLOSED_PREVQ1'],\n",
    "                                                           x['TL_Closed_PrevQ1'],x['TWL_Closed_PrevQ1']),axis=1)"
   ]
  },
  {
   "cell_type": "code",
   "execution_count": 17,
   "metadata": {
    "collapsed": true
   },
   "outputs": [],
   "source": [
    "trainbog[\"L_ACTIVE\"]=trainbog.apply(lambda x : isLoanActive(x['AGRI_TAG_LIVE'],x['AL_CNC_TAG_LIVE'],x['AL_TAG_LIVE'],\n",
    "                                                                x['BL_TAG_LIVE'],x['CC_TAG_LIVE'],x['CE_TAG_LIVE'],x['CV_TAG_LIVE'],x['DEMAT_TAG_LIVE'],x['EDU_TAG_LIVE'],x['GL_TAG_LIVE'],x['HL_TAG_LIVE'],x['SEC_ACC_TAG_LIVE'],x['INS_TAG_LIVE'],x['LAS_TAG_LIVE'],x['MF_TAG_LIVE'],x['OTHER_LOANS_TAG_LIVE'],x['PL_TAG_LIVE'],x['RD_TAG_LIVE'],x['FD_TAG_LIVE'],x['TL_TAG_LIVE'],x['TWL_TAG_LIVE'],x['lap_tag_live']),axis=1)\n",
    "\n"
   ]
  },
  {
   "cell_type": "code",
   "execution_count": 20,
   "metadata": {
    "collapsed": true
   },
   "outputs": [],
   "source": [
    "trainCat=trainbog[catfeature]"
   ]
  },
  {
   "cell_type": "code",
   "execution_count": 21,
   "metadata": {
    "collapsed": true
   },
   "outputs": [],
   "source": [
    "trainNew= trainbog[features]"
   ]
  },
  {
   "cell_type": "code",
   "execution_count": 113,
   "metadata": {
    "collapsed": true
   },
   "outputs": [
    {
     "data": {
      "text/plain": [
       "21                     0\n",
       "20                     0\n",
       "Recency_of_Activity    0\n",
       "Recency_of_CR_TXN      0\n",
       "BAL_prev6              0\n",
       "CNR_prev6              0\n",
       "BAL_prev5              0\n",
       "CNR_prev5              0\n",
       "BAL_prev4              0\n",
       "CNR_prev4              0\n",
       "BAL_prev3              0\n",
       "CNR_prev3              0\n",
       "BAL_prev2              0\n",
       "CNR_prev2              0\n",
       "BAL_prev1              0\n",
       "CNR_prev1              0\n",
       "MonthlyCredit6         0\n",
       "MonthlyCredit5         0\n",
       "MonthlyCredit4         0\n",
       "MonthlyCredit3         0\n",
       "MonthlyCredit2         0\n",
       "MonthlyCredit1         0\n",
       "dependents             0\n",
       "L_PREM                 0\n",
       "L_CLOS                 0\n",
       "L_ACTIVE               0\n",
       "10                     0\n",
       "19                     0\n",
       "18                     0\n",
       "17                     0\n",
       "16                     0\n",
       "15                     0\n",
       "14                     0\n",
       "13                     0\n",
       "12                     0\n",
       "11                     0\n",
       "9                      0\n",
       "Responders             0\n",
       "8                      0\n",
       "7                      0\n",
       "6                      0\n",
       "5                      0\n",
       "4                      0\n",
       "3                      0\n",
       "2                      0\n",
       "1                      0\n",
       "0                      0\n",
       "NO_OF_Accs             0\n",
       "dtype: int64"
      ]
     },
     "execution_count": 113,
     "metadata": {},
     "output_type": "execute_result"
    }
   ],
   "source": [
    "train.isnull().sum(axis=0).sort_values(ascending=False).head(50)"
   ]
  },
  {
   "cell_type": "code",
   "execution_count": 22,
   "metadata": {},
   "outputs": [
    {
     "name": "stdout",
     "output_type": "stream",
     "text": [
      "X shape: :  (300000, 22)\n"
     ]
    }
   ],
   "source": [
    "encoded_x = None\n",
    "for i in range(0, trainCat.shape[1]):\n",
    "    label_encoder = LabelEncoder()\n",
    "    feature = label_encoder.fit_transform(trainCat.iloc[:,i])\n",
    "    feature = feature.reshape(trainCat.shape[0], 1)\n",
    "    onehot_encoder = OneHotEncoder(sparse=False)\n",
    "    feature = onehot_encoder.fit_transform(feature)\n",
    "    if encoded_x is None:\n",
    "        encoded_x = feature\n",
    "    else:\n",
    "        encoded_x = np.concatenate((encoded_x, feature), axis=1)\n",
    "print(\"X shape: : \", encoded_x.shape)"
   ]
  },
  {
   "cell_type": "code",
   "execution_count": 100,
   "metadata": {},
   "outputs": [
    {
     "data": {
      "text/plain": [
       "['HNW_CATEGORY',\n",
       " 'FINAL_WORTH_prev1',\n",
       " 'ENGAGEMENT_TAG_prev1',\n",
       " 'RBI_Class_Audit',\n",
       " 'OCCUP_ALL_NEW']"
      ]
     },
     "execution_count": 100,
     "metadata": {},
     "output_type": "execute_result"
    }
   ],
   "source": [
    "trainCat.columns.tolist()"
   ]
  },
  {
   "cell_type": "code",
   "execution_count": 23,
   "metadata": {
    "collapsed": true
   },
   "outputs": [],
   "source": [
    "p=pd.DataFrame(encoded_x)"
   ]
  },
  {
   "cell_type": "code",
   "execution_count": 102,
   "metadata": {},
   "outputs": [
    {
     "data": {
      "text/html": [
       "<div>\n",
       "<style>\n",
       "    .dataframe thead tr:only-child th {\n",
       "        text-align: right;\n",
       "    }\n",
       "\n",
       "    .dataframe thead th {\n",
       "        text-align: left;\n",
       "    }\n",
       "\n",
       "    .dataframe tbody tr th {\n",
       "        vertical-align: top;\n",
       "    }\n",
       "</style>\n",
       "<table border=\"1\" class=\"dataframe\">\n",
       "  <thead>\n",
       "    <tr style=\"text-align: right;\">\n",
       "      <th></th>\n",
       "      <th>0</th>\n",
       "      <th>1</th>\n",
       "      <th>2</th>\n",
       "      <th>3</th>\n",
       "      <th>4</th>\n",
       "      <th>5</th>\n",
       "      <th>6</th>\n",
       "      <th>7</th>\n",
       "      <th>8</th>\n",
       "      <th>9</th>\n",
       "      <th>...</th>\n",
       "      <th>12</th>\n",
       "      <th>13</th>\n",
       "      <th>14</th>\n",
       "      <th>15</th>\n",
       "      <th>16</th>\n",
       "      <th>17</th>\n",
       "      <th>18</th>\n",
       "      <th>19</th>\n",
       "      <th>20</th>\n",
       "      <th>21</th>\n",
       "    </tr>\n",
       "  </thead>\n",
       "  <tbody>\n",
       "    <tr>\n",
       "      <th>0</th>\n",
       "      <td>0.0</td>\n",
       "      <td>1.0</td>\n",
       "      <td>0.0</td>\n",
       "      <td>1.0</td>\n",
       "      <td>0.0</td>\n",
       "      <td>0.0</td>\n",
       "      <td>0.0</td>\n",
       "      <td>1.0</td>\n",
       "      <td>0.0</td>\n",
       "      <td>0.0</td>\n",
       "      <td>...</td>\n",
       "      <td>1.0</td>\n",
       "      <td>0.0</td>\n",
       "      <td>1.0</td>\n",
       "      <td>0.0</td>\n",
       "      <td>0.0</td>\n",
       "      <td>0.0</td>\n",
       "      <td>0.0</td>\n",
       "      <td>0.0</td>\n",
       "      <td>0.0</td>\n",
       "      <td>0.0</td>\n",
       "    </tr>\n",
       "    <tr>\n",
       "      <th>1</th>\n",
       "      <td>1.0</td>\n",
       "      <td>0.0</td>\n",
       "      <td>0.0</td>\n",
       "      <td>1.0</td>\n",
       "      <td>0.0</td>\n",
       "      <td>0.0</td>\n",
       "      <td>0.0</td>\n",
       "      <td>0.0</td>\n",
       "      <td>1.0</td>\n",
       "      <td>0.0</td>\n",
       "      <td>...</td>\n",
       "      <td>0.0</td>\n",
       "      <td>0.0</td>\n",
       "      <td>0.0</td>\n",
       "      <td>0.0</td>\n",
       "      <td>0.0</td>\n",
       "      <td>0.0</td>\n",
       "      <td>0.0</td>\n",
       "      <td>1.0</td>\n",
       "      <td>0.0</td>\n",
       "      <td>0.0</td>\n",
       "    </tr>\n",
       "    <tr>\n",
       "      <th>2</th>\n",
       "      <td>0.0</td>\n",
       "      <td>1.0</td>\n",
       "      <td>0.0</td>\n",
       "      <td>1.0</td>\n",
       "      <td>0.0</td>\n",
       "      <td>0.0</td>\n",
       "      <td>0.0</td>\n",
       "      <td>1.0</td>\n",
       "      <td>0.0</td>\n",
       "      <td>0.0</td>\n",
       "      <td>...</td>\n",
       "      <td>0.0</td>\n",
       "      <td>1.0</td>\n",
       "      <td>0.0</td>\n",
       "      <td>0.0</td>\n",
       "      <td>0.0</td>\n",
       "      <td>0.0</td>\n",
       "      <td>0.0</td>\n",
       "      <td>0.0</td>\n",
       "      <td>1.0</td>\n",
       "      <td>0.0</td>\n",
       "    </tr>\n",
       "    <tr>\n",
       "      <th>3</th>\n",
       "      <td>0.0</td>\n",
       "      <td>0.0</td>\n",
       "      <td>1.0</td>\n",
       "      <td>1.0</td>\n",
       "      <td>0.0</td>\n",
       "      <td>0.0</td>\n",
       "      <td>0.0</td>\n",
       "      <td>1.0</td>\n",
       "      <td>0.0</td>\n",
       "      <td>0.0</td>\n",
       "      <td>...</td>\n",
       "      <td>0.0</td>\n",
       "      <td>0.0</td>\n",
       "      <td>0.0</td>\n",
       "      <td>0.0</td>\n",
       "      <td>0.0</td>\n",
       "      <td>0.0</td>\n",
       "      <td>0.0</td>\n",
       "      <td>0.0</td>\n",
       "      <td>1.0</td>\n",
       "      <td>0.0</td>\n",
       "    </tr>\n",
       "    <tr>\n",
       "      <th>4</th>\n",
       "      <td>0.0</td>\n",
       "      <td>1.0</td>\n",
       "      <td>0.0</td>\n",
       "      <td>1.0</td>\n",
       "      <td>0.0</td>\n",
       "      <td>0.0</td>\n",
       "      <td>0.0</td>\n",
       "      <td>1.0</td>\n",
       "      <td>0.0</td>\n",
       "      <td>0.0</td>\n",
       "      <td>...</td>\n",
       "      <td>0.0</td>\n",
       "      <td>0.0</td>\n",
       "      <td>1.0</td>\n",
       "      <td>0.0</td>\n",
       "      <td>0.0</td>\n",
       "      <td>0.0</td>\n",
       "      <td>0.0</td>\n",
       "      <td>0.0</td>\n",
       "      <td>0.0</td>\n",
       "      <td>0.0</td>\n",
       "    </tr>\n",
       "  </tbody>\n",
       "</table>\n",
       "<p>5 rows × 22 columns</p>\n",
       "</div>"
      ],
      "text/plain": [
       "    0    1    2    3    4    5    6    7    8    9  ...    12   13   14   15  \\\n",
       "0  0.0  1.0  0.0  1.0  0.0  0.0  0.0  1.0  0.0  0.0 ...   1.0  0.0  1.0  0.0   \n",
       "1  1.0  0.0  0.0  1.0  0.0  0.0  0.0  0.0  1.0  0.0 ...   0.0  0.0  0.0  0.0   \n",
       "2  0.0  1.0  0.0  1.0  0.0  0.0  0.0  1.0  0.0  0.0 ...   0.0  1.0  0.0  0.0   \n",
       "3  0.0  0.0  1.0  1.0  0.0  0.0  0.0  1.0  0.0  0.0 ...   0.0  0.0  0.0  0.0   \n",
       "4  0.0  1.0  0.0  1.0  0.0  0.0  0.0  1.0  0.0  0.0 ...   0.0  0.0  1.0  0.0   \n",
       "\n",
       "    16   17   18   19   20   21  \n",
       "0  0.0  0.0  0.0  0.0  0.0  0.0  \n",
       "1  0.0  0.0  0.0  1.0  0.0  0.0  \n",
       "2  0.0  0.0  0.0  0.0  1.0  0.0  \n",
       "3  0.0  0.0  0.0  0.0  1.0  0.0  \n",
       "4  0.0  0.0  0.0  0.0  0.0  0.0  \n",
       "\n",
       "[5 rows x 22 columns]"
      ]
     },
     "execution_count": 102,
     "metadata": {},
     "output_type": "execute_result"
    }
   ],
   "source": [
    "p.head()"
   ]
  },
  {
   "cell_type": "code",
   "execution_count": 24,
   "metadata": {
    "collapsed": true
   },
   "outputs": [],
   "source": [
    "frame=[trainNew,p]\n",
    "train=pd.concat(frame,axis=1)"
   ]
  },
  {
   "cell_type": "code",
   "execution_count": 376,
   "metadata": {
    "collapsed": true
   },
   "outputs": [],
   "source": [
    "train=trainNew"
   ]
  },
  {
   "cell_type": "code",
   "execution_count": 361,
   "metadata": {},
   "outputs": [
    {
     "data": {
      "text/html": [
       "<div>\n",
       "<style>\n",
       "    .dataframe thead tr:only-child th {\n",
       "        text-align: right;\n",
       "    }\n",
       "\n",
       "    .dataframe thead th {\n",
       "        text-align: left;\n",
       "    }\n",
       "\n",
       "    .dataframe tbody tr th {\n",
       "        vertical-align: top;\n",
       "    }\n",
       "</style>\n",
       "<table border=\"1\" class=\"dataframe\">\n",
       "  <thead>\n",
       "    <tr style=\"text-align: right;\">\n",
       "      <th></th>\n",
       "      <th>Responders</th>\n",
       "      <th>NO_OF_Accs</th>\n",
       "      <th>dependents</th>\n",
       "      <th>MonthlyCredit1</th>\n",
       "      <th>MonthlyCredit2</th>\n",
       "      <th>MonthlyCredit3</th>\n",
       "      <th>MonthlyCredit4</th>\n",
       "      <th>MonthlyCredit5</th>\n",
       "      <th>MonthlyCredit6</th>\n",
       "      <th>CNR_prev1</th>\n",
       "      <th>...</th>\n",
       "      <th>CNR_prev5</th>\n",
       "      <th>BAL_prev5</th>\n",
       "      <th>CNR_prev6</th>\n",
       "      <th>BAL_prev6</th>\n",
       "      <th>Recency_of_CR_TXN</th>\n",
       "      <th>Recency_of_Activity</th>\n",
       "      <th>L_PREM</th>\n",
       "      <th>L_CLOS</th>\n",
       "      <th>L_ACTIVE</th>\n",
       "      <th>CASH_WD_CNT_Last6</th>\n",
       "    </tr>\n",
       "  </thead>\n",
       "  <tbody>\n",
       "    <tr>\n",
       "      <th>0</th>\n",
       "      <td>0</td>\n",
       "      <td>1</td>\n",
       "      <td>0.0</td>\n",
       "      <td>0.000</td>\n",
       "      <td>0.0</td>\n",
       "      <td>0.0</td>\n",
       "      <td>0.000000</td>\n",
       "      <td>7800.0</td>\n",
       "      <td>0.0</td>\n",
       "      <td>1520.75</td>\n",
       "      <td>...</td>\n",
       "      <td>2557.22</td>\n",
       "      <td>1223508.20</td>\n",
       "      <td>1752.89</td>\n",
       "      <td>841385.39</td>\n",
       "      <td>147.0</td>\n",
       "      <td>4.0</td>\n",
       "      <td>0</td>\n",
       "      <td>0</td>\n",
       "      <td>0</td>\n",
       "      <td>1</td>\n",
       "    </tr>\n",
       "    <tr>\n",
       "      <th>1</th>\n",
       "      <td>0</td>\n",
       "      <td>1</td>\n",
       "      <td>0.0</td>\n",
       "      <td>1599.200</td>\n",
       "      <td>0.0</td>\n",
       "      <td>0.0</td>\n",
       "      <td>0.000000</td>\n",
       "      <td>0.0</td>\n",
       "      <td>28.5</td>\n",
       "      <td>18340.86</td>\n",
       "      <td>...</td>\n",
       "      <td>12807.07</td>\n",
       "      <td>6053779.08</td>\n",
       "      <td>17711.99</td>\n",
       "      <td>8684104.76</td>\n",
       "      <td>19.0</td>\n",
       "      <td>3.0</td>\n",
       "      <td>0</td>\n",
       "      <td>0</td>\n",
       "      <td>1</td>\n",
       "      <td>1</td>\n",
       "    </tr>\n",
       "    <tr>\n",
       "      <th>2</th>\n",
       "      <td>1</td>\n",
       "      <td>1</td>\n",
       "      <td>5.0</td>\n",
       "      <td>15000.000</td>\n",
       "      <td>0.0</td>\n",
       "      <td>0.0</td>\n",
       "      <td>296000.000000</td>\n",
       "      <td>36300.0</td>\n",
       "      <td>0.0</td>\n",
       "      <td>482.92</td>\n",
       "      <td>...</td>\n",
       "      <td>32.12</td>\n",
       "      <td>46987.35</td>\n",
       "      <td>58.83</td>\n",
       "      <td>28240.31</td>\n",
       "      <td>0.0</td>\n",
       "      <td>1.0</td>\n",
       "      <td>0</td>\n",
       "      <td>0</td>\n",
       "      <td>0</td>\n",
       "      <td>1</td>\n",
       "    </tr>\n",
       "    <tr>\n",
       "      <th>3</th>\n",
       "      <td>0</td>\n",
       "      <td>1</td>\n",
       "      <td>0.0</td>\n",
       "      <td>0.000</td>\n",
       "      <td>0.0</td>\n",
       "      <td>0.0</td>\n",
       "      <td>0.000000</td>\n",
       "      <td>0.0</td>\n",
       "      <td>0.0</td>\n",
       "      <td>2045.09</td>\n",
       "      <td>...</td>\n",
       "      <td>2029.79</td>\n",
       "      <td>856120.91</td>\n",
       "      <td>2011.19</td>\n",
       "      <td>839849.98</td>\n",
       "      <td>-1.0</td>\n",
       "      <td>5.0</td>\n",
       "      <td>0</td>\n",
       "      <td>0</td>\n",
       "      <td>0</td>\n",
       "      <td>0</td>\n",
       "    </tr>\n",
       "    <tr>\n",
       "      <th>4</th>\n",
       "      <td>0</td>\n",
       "      <td>1</td>\n",
       "      <td>0.0</td>\n",
       "      <td>105725.295</td>\n",
       "      <td>29800.0</td>\n",
       "      <td>29800.0</td>\n",
       "      <td>29933.333333</td>\n",
       "      <td>24900.0</td>\n",
       "      <td>26600.0</td>\n",
       "      <td>713.13</td>\n",
       "      <td>...</td>\n",
       "      <td>26.95</td>\n",
       "      <td>30086.96</td>\n",
       "      <td>89.59</td>\n",
       "      <td>65139.84</td>\n",
       "      <td>0.0</td>\n",
       "      <td>1.0</td>\n",
       "      <td>0</td>\n",
       "      <td>0</td>\n",
       "      <td>1</td>\n",
       "      <td>0</td>\n",
       "    </tr>\n",
       "  </tbody>\n",
       "</table>\n",
       "<p>5 rows × 27 columns</p>\n",
       "</div>"
      ],
      "text/plain": [
       "   Responders  NO_OF_Accs  dependents  MonthlyCredit1  MonthlyCredit2  \\\n",
       "0           0           1         0.0           0.000             0.0   \n",
       "1           0           1         0.0        1599.200             0.0   \n",
       "2           1           1         5.0       15000.000             0.0   \n",
       "3           0           1         0.0           0.000             0.0   \n",
       "4           0           1         0.0      105725.295         29800.0   \n",
       "\n",
       "   MonthlyCredit3  MonthlyCredit4  MonthlyCredit5  MonthlyCredit6  CNR_prev1  \\\n",
       "0             0.0        0.000000          7800.0             0.0    1520.75   \n",
       "1             0.0        0.000000             0.0            28.5   18340.86   \n",
       "2             0.0   296000.000000         36300.0             0.0     482.92   \n",
       "3             0.0        0.000000             0.0             0.0    2045.09   \n",
       "4         29800.0    29933.333333         24900.0         26600.0     713.13   \n",
       "\n",
       "         ...          CNR_prev5   BAL_prev5  CNR_prev6   BAL_prev6  \\\n",
       "0        ...            2557.22  1223508.20    1752.89   841385.39   \n",
       "1        ...           12807.07  6053779.08   17711.99  8684104.76   \n",
       "2        ...              32.12    46987.35      58.83    28240.31   \n",
       "3        ...            2029.79   856120.91    2011.19   839849.98   \n",
       "4        ...              26.95    30086.96      89.59    65139.84   \n",
       "\n",
       "   Recency_of_CR_TXN  Recency_of_Activity  L_PREM  L_CLOS  L_ACTIVE  \\\n",
       "0              147.0                  4.0       0       0         0   \n",
       "1               19.0                  3.0       0       0         1   \n",
       "2                0.0                  1.0       0       0         0   \n",
       "3               -1.0                  5.0       0       0         0   \n",
       "4                0.0                  1.0       0       0         1   \n",
       "\n",
       "   CASH_WD_CNT_Last6  \n",
       "0                  1  \n",
       "1                  1  \n",
       "2                  1  \n",
       "3                  0  \n",
       "4                  0  \n",
       "\n",
       "[5 rows x 27 columns]"
      ]
     },
     "execution_count": 361,
     "metadata": {},
     "output_type": "execute_result"
    }
   ],
   "source": [
    "train.head()"
   ]
  },
  {
   "cell_type": "code",
   "execution_count": 25,
   "metadata": {
    "collapsed": true
   },
   "outputs": [],
   "source": [
    "X = train.iloc[:,1:train.shape[1]]\n",
    "y = train.iloc[:,0]"
   ]
  },
  {
   "cell_type": "code",
   "execution_count": 26,
   "metadata": {
    "collapsed": true
   },
   "outputs": [],
   "source": [
    "from sklearn.model_selection import train_test_split\n",
    "from xgboost import XGBClassifier\n",
    "from sklearn.metrics import accuracy_score\n",
    "seed = 7\n",
    "test_size = 0.33\n",
    "X_train, X_test, y_train, y_test = train_test_split(X, y, test_size=test_size, random_state=seed)"
   ]
  },
  {
   "cell_type": "code",
   "execution_count": 27,
   "metadata": {},
   "outputs": [
    {
     "name": "stdout",
     "output_type": "stream",
     "text": [
      "XGBClassifier(base_score=0.5, booster='gbtree', colsample_bylevel=1,\n",
      "       colsample_bytree=0.8, gamma=0, learning_rate=0.03, max_delta_step=0,\n",
      "       max_depth=7, min_child_weight=1, missing=None, n_estimators=700,\n",
      "       n_jobs=1, nthread=4, objective='binary:logistic', random_state=0,\n",
      "       reg_alpha=0, reg_lambda=1, scale_pos_weight=1, seed=4242,\n",
      "       silent=True, subsample=0.8)\n"
     ]
    }
   ],
   "source": [
    "#model = XGBClassifier()\n",
    "model = xgb.XGBClassifier(missing=np.nan, max_depth=7, n_estimators=700, learning_rate=0.03,\n",
    "                          nthread=4, subsample=0.8, colsample_bytree=0.8, seed=4242)\n",
    "model.fit(X_train, y_train)\n",
    "print(model)"
   ]
  },
  {
   "cell_type": "code",
   "execution_count": 28,
   "metadata": {},
   "outputs": [
    {
     "name": "stdout",
     "output_type": "stream",
     "text": [
      "Accuracy: 86.67%\n"
     ]
    }
   ],
   "source": [
    "y_pred = model.predict(X_test)\n",
    "predictions = [round(value) for value in y_pred]\n",
    "# evaluate predictions\n",
    "accuracy = accuracy_score(y_test, predictions)\n",
    "print(\"Accuracy: %.2f%%\" % (accuracy * 100.0))"
   ]
  },
  {
   "cell_type": "code",
   "execution_count": 327,
   "metadata": {},
   "outputs": [
    {
     "data": {
      "text/plain": [
       "47"
      ]
     },
     "execution_count": 327,
     "metadata": {},
     "output_type": "execute_result"
    }
   ],
   "source": [
    "X_test.shape[1]"
   ]
  },
  {
   "cell_type": "code",
   "execution_count": 29,
   "metadata": {
    "collapsed": true
   },
   "outputs": [],
   "source": [
    "testbog[\"NO_OF_Accs\"].loc[testbog['NO_OF_Accs']>5] = 5\n",
    "testbog[\"dependents\"].loc[testbog['dependents']>5] = 5\n",
    "testbog[['EMAIL_UNSUBSCRIBE']]=testbog[['EMAIL_UNSUBSCRIBE']].fillna('N')\n",
    "testbog[['OCCUP_ALL_NEW']]=testbog[['OCCUP_ALL_NEW']].fillna('MISSING')\n",
    "testbog[['dependents']]=testbog[['dependents']].fillna(5)\n",
    "testbog[['FINAL_WORTH_prev1']]=testbog[['FINAL_WORTH_prev1']].fillna('MEDIUM')\n",
    "testbog[['ENGAGEMENT_TAG_prev1']]=testbog[['ENGAGEMENT_TAG_prev1']].fillna('LOW')\n",
    "testbog[['Recency_of_CR_TXN']]=testbog[['Recency_of_CR_TXN']].fillna(-1)\n",
    "testbog[\"C_prev1\"].loc[testbog['C_prev1']>3435235] = 3435235\n",
    "testbog[\"D_prev1\"].loc[testbog['D_prev1']>3455025] = 3455025\n",
    "testbog['MonthlyCredit1']= testbog['C_prev1']/testbog['count_C_prev1']\n",
    "testbog['MonthlyCredit2']= testbog['C_prev2']/testbog['count_C_prev2']\n",
    "testbog['MonthlyCredit3']= testbog['C_prev3']/testbog['count_C_prev3']\n",
    "testbog['MonthlyCredit4']= testbog['C_prev4']/testbog['count_C_prev4']\n",
    "testbog['MonthlyCredit5']= testbog['C_prev5']/testbog['count_C_prev5']\n",
    "testbog['MonthlyCredit6']= testbog['C_prev6']/testbog['count_C_prev6']\n",
    "testbog[['MonthlyCredit1']]=testbog[['MonthlyCredit1']].fillna(0)\n",
    "testbog[['MonthlyCredit2']]=testbog[['MonthlyCredit2']].fillna(0)\n",
    "testbog[['MonthlyCredit3']]=testbog[['MonthlyCredit3']].fillna(0)\n",
    "testbog[['MonthlyCredit4']]=testbog[['MonthlyCredit4']].fillna(0)\n",
    "testbog[['MonthlyCredit5']]=testbog[['MonthlyCredit5']].fillna(0)\n",
    "testbog[['MonthlyCredit6']]=testbog[['MonthlyCredit6']].fillna(0)\n",
    "testbog[['Recency_of_Activity']]=testbog[['Recency_of_Activity']].fillna(-1)"
   ]
  },
  {
   "cell_type": "code",
   "execution_count": 30,
   "metadata": {
    "collapsed": true
   },
   "outputs": [],
   "source": [
    "testbog[\"L_PREM\"]=testbog.apply(lambda x : isLoanPremClosed(x['AGRI_PREM_CLOSED_PREVQ1'],x['AL_CNC_PREM_CLOSED_PREVQ1'],\n",
    "                                                           x['AL_PREM_CLOSED_PREVQ1'],x['BL_PREM_CLOSED_PREVQ1'],x['CC_PREM_CLOSED_PREVQ1'],\n",
    "                                                            x['CE_PREM_CLOSED_PREVQ1'],x['CV_PREM_CLOSED_PREVQ1'],x['EDU_PREM_CLOSED_PREVQ1'],\n",
    "                                                            x['OTHER_LOANS_PREM_CLOSED_PREVQ1'],x['PL_PREM_CLOSED_PREVQ1'],\n",
    "                                                            x['RD_PREM_CLOSED_PREVQ1'],x['FD_PREM_CLOSED_PREVQ1'],\n",
    "                                                           x['TL_PREM_CLOSED_PREVQ1'],x['TWL_PREM_CLOSED_PREVQ1']),axis=1)"
   ]
  },
  {
   "cell_type": "code",
   "execution_count": 31,
   "metadata": {
    "collapsed": true
   },
   "outputs": [],
   "source": [
    "testbog[\"L_CLOS\"]=testbog.apply(lambda x : isLoanPremClosed(x['AGRI_Closed_PrevQ1'],x['AL_CNC_Closed_PrevQ1'],\n",
    "                                                           x['AL_Closed_PrevQ1'],x['BL_Closed_PrevQ1'],x['CC_CLOSED_PREVQ1'],\n",
    "                                                            x['CE_Closed_PrevQ1'],x['CV_Closed_PrevQ1'],x['EDU_Closed_PrevQ1'],\n",
    "                                                            x['OTHER_LOANS_Closed_PrevQ1'],x['PL_Closed_PrevQ1'],\n",
    "                                                            x['RD_CLOSED_PREVQ1'],x['FD_CLOSED_PREVQ1'],\n",
    "                                                           x['TL_Closed_PrevQ1'],x['TWL_Closed_PrevQ1']),axis=1)"
   ]
  },
  {
   "cell_type": "code",
   "execution_count": 32,
   "metadata": {
    "collapsed": true
   },
   "outputs": [],
   "source": [
    "testbog[\"L_ACTIVE\"]=testbog.apply(lambda x : isLoanActive(x['AGRI_TAG_LIVE'],x['AL_CNC_TAG_LIVE'],x['AL_TAG_LIVE'],\n",
    "                                                                x['BL_TAG_LIVE'],x['CC_TAG_LIVE'],x['CE_TAG_LIVE'],x['CV_TAG_LIVE'],x['DEMAT_TAG_LIVE'],x['EDU_TAG_LIVE'],x['GL_TAG_LIVE'],x['HL_TAG_LIVE'],x['SEC_ACC_TAG_LIVE'],x['INS_TAG_LIVE'],x['LAS_TAG_LIVE'],x['MF_TAG_LIVE'],x['OTHER_LOANS_TAG_LIVE'],x['PL_TAG_LIVE'],x['RD_TAG_LIVE'],x['FD_TAG_LIVE'],x['TL_TAG_LIVE'],x['TWL_TAG_LIVE'],x['lap_tag_live']),axis=1)\n",
    "\n"
   ]
  },
  {
   "cell_type": "code",
   "execution_count": 34,
   "metadata": {
    "collapsed": true
   },
   "outputs": [],
   "source": [
    "testCat=testbog[catfeature]"
   ]
  },
  {
   "cell_type": "code",
   "execution_count": 35,
   "metadata": {
    "collapsed": true
   },
   "outputs": [],
   "source": [
    "testNew= testbog[Testfeatures]"
   ]
  },
  {
   "cell_type": "code",
   "execution_count": 36,
   "metadata": {},
   "outputs": [
    {
     "name": "stdout",
     "output_type": "stream",
     "text": [
      "X shape: :  (200000, 22)\n"
     ]
    }
   ],
   "source": [
    "Tencoded_x = None\n",
    "for i in range(0, testCat.shape[1]):\n",
    "    label_encoder = LabelEncoder()\n",
    "    feature = label_encoder.fit_transform(testCat.iloc[:,i])\n",
    "    feature = feature.reshape(testCat.shape[0], 1)\n",
    "    onehot_encoder = OneHotEncoder(sparse=False)\n",
    "    feature = onehot_encoder.fit_transform(feature)\n",
    "    if Tencoded_x is None:\n",
    "        Tencoded_x = feature\n",
    "    else:\n",
    "        Tencoded_x = np.concatenate((Tencoded_x, feature), axis=1)\n",
    "print(\"X shape: : \", Tencoded_x.shape)"
   ]
  },
  {
   "cell_type": "code",
   "execution_count": 37,
   "metadata": {
    "collapsed": true
   },
   "outputs": [],
   "source": [
    "t=pd.DataFrame(Tencoded_x)\n",
    "Tframe=[testNew,t]\n",
    "testF=pd.concat(Tframe,axis=1)"
   ]
  },
  {
   "cell_type": "code",
   "execution_count": 390,
   "metadata": {
    "collapsed": true
   },
   "outputs": [],
   "source": [
    "testF=testNew"
   ]
  },
  {
   "cell_type": "code",
   "execution_count": 387,
   "metadata": {},
   "outputs": [
    {
     "data": {
      "text/plain": [
       "<bound method Index.tolist of Index(['NO_OF_Accs', 'dependents', 'MonthlyCredit1', 'MonthlyCredit2',\n",
       "       'MonthlyCredit3', 'MonthlyCredit4', 'MonthlyCredit5', 'MonthlyCredit6',\n",
       "       'CNR_prev1', 'BAL_prev1', 'CNR_prev2', 'BAL_prev2', 'CNR_prev3',\n",
       "       'BAL_prev3', 'CNR_prev4', 'BAL_prev4', 'CNR_prev5', 'BAL_prev5',\n",
       "       'CNR_prev6', 'BAL_prev6', 'Recency_of_CR_TXN', 'Recency_of_Activity',\n",
       "       'L_PREM', 'L_CLOS', 'L_ACTIVE', 'CASH_WD_CNT_Last6'],\n",
       "      dtype='object')>"
      ]
     },
     "execution_count": 387,
     "metadata": {},
     "output_type": "execute_result"
    }
   ],
   "source": [
    "testF.columns.tolist\n"
   ]
  },
  {
   "cell_type": "code",
   "execution_count": 38,
   "metadata": {
    "collapsed": true
   },
   "outputs": [],
   "source": [
    "predictions=model.predict_proba(testF)[:,1]"
   ]
  },
  {
   "cell_type": "code",
   "execution_count": 39,
   "metadata": {
    "collapsed": true
   },
   "outputs": [],
   "source": [
    "submission = pd.DataFrame({\n",
    "        \"UCIC_ID\": testbog[\"UCIC_ID\"],\n",
    "        \"Responders\": predictions\n",
    "    })\n",
    "submission.to_csv('/Users/sandip/Data/Analytic_vidhya/BoG/bog7.csv', index=False)"
   ]
  },
  {
   "cell_type": "code",
   "execution_count": 162,
   "metadata": {},
   "outputs": [
    {
     "data": {
      "text/plain": [
       "array([ 0.30039424,  0.07392243,  0.04346601, ...,  0.16159827,\n",
       "        0.05698766,  0.39742959], dtype=float32)"
      ]
     },
     "execution_count": 162,
     "metadata": {},
     "output_type": "execute_result"
    }
   ],
   "source": [
    "predictions"
   ]
  },
  {
   "cell_type": "code",
   "execution_count": 176,
   "metadata": {},
   "outputs": [
    {
     "name": "stdout",
     "output_type": "stream",
     "text": [
      "[  4.19891207e-03   8.81158561e-03   3.27637717e-02   3.24266329e-02\n",
      "   3.24113108e-02   2.92391386e-02   3.19668986e-02   3.23500112e-02\n",
      "   5.67466095e-02   8.70124921e-02   4.54371311e-02   7.91357011e-02\n",
      "   4.15906832e-02   6.73051849e-02   3.73611227e-02   4.42418195e-02\n",
      "   3.52156907e-02   4.39966284e-02   4.30924818e-02   5.54440282e-02\n",
      "   3.90161686e-02   4.02421281e-02   2.49789283e-03   2.62048887e-03\n",
      "   2.97295232e-03   3.64723010e-03   3.21814418e-03   4.81189182e-03\n",
      "   8.62769131e-03   2.02283356e-03   4.18358762e-03   5.45552047e-03\n",
      "   6.75810268e-03   3.80047504e-03   0.00000000e+00   5.01111010e-03\n",
      "   1.67037011e-03   3.11087281e-03   3.23346863e-03   3.20281973e-03\n",
      "   2.06880691e-03   1.07271473e-04   3.06489928e-05   1.53244962e-03\n",
      "   3.18749528e-03   3.60125653e-03   2.62048887e-03]\n"
     ]
    },
    {
     "data": {
      "image/png": "[encoded data removed]",
      "text/plain": [
       "<matplotlib.figure.Figure at 0x11bcf8d30>"
      ]
     },
     "metadata": {},
     "output_type": "display_data"
    }
   ],
   "source": [
    "print(model.feature_importances_)\n",
    "# plot\n",
    "plt.bar(range(len(model.feature_importances_)), model.feature_importances_)\n",
    "plt.show()"
   ]
  },
  {
   "cell_type": "code",
   "execution_count": 40,
   "metadata": {},
   "outputs": [
    {
     "data": {
      "image/png": "[encoded data removed]",
      "text/plain": [
       "<matplotlib.figure.Figure at 0x10df2bf98>"
      ]
     },
     "metadata": {},
     "output_type": "display_data"
    }
   ],
   "source": [
    "from xgboost import plot_importance\n",
    "plot_importance(model)\n",
    "plt.show()"
   ]
  },
  {
   "cell_type": "code",
   "execution_count": 192,
   "metadata": {
    "collapsed": true
   },
   "outputs": [],
   "source": [
    "dd1=trainbog.loc[trainbog[\"FD_PREM_CLOSED_PREVQ1\"].notnull()]\n"
   ]
  },
  {
   "cell_type": "code",
   "execution_count": 210,
   "metadata": {},
   "outputs": [
    {
     "data": {
      "image/png": "[encoded data removed]",
      "text/plain": [
       "<matplotlib.figure.Figure at 0x245150048>"
      ]
     },
     "metadata": {},
     "output_type": "display_data"
    }
   ],
   "source": [
    "plt.figure(figsize=(8,4))\n",
    "sns.countplot(data=dd1,x=\"CASH_WD_CNT_Last6\",hue='Responders')\n",
    "plt.xticks( rotation='vertical')\n",
    "plt.ylabel(\"Number of occurence\")\n",
    "plt.xlabel('HNW')\n",
    "plt.show()"
   ]
  },
  {
   "cell_type": "code",
   "execution_count": 337,
   "metadata": {
    "scrolled": true
   },
   "outputs": [
    {
     "data": {
      "text/plain": [
       "0.0      36775\n",
       "3.0      15367\n",
       "4.0      12213\n",
       "1.0      11859\n",
       "2.0      10950\n",
       "5.0      10825\n",
       "6.0       9058\n",
       "7.0       7387\n",
       "9.0       6042\n",
       "11.0      5546\n",
       "10.0      5490\n",
       "12.0      5287\n",
       "13.0      5282\n",
       "21.0      5015\n",
       "14.0      4876\n",
       "24.0      4327\n",
       "17.0      3804\n",
       "18.0      3579\n",
       "19.0      3360\n",
       "20.0      3239\n",
       "8.0       2955\n",
       "25.0      2633\n",
       "23.0      2515\n",
       "28.0      2421\n",
       "27.0      2374\n",
       "26.0      2351\n",
       "33.0      1889\n",
       "30.0      1834\n",
       "31.0      1811\n",
       "32.0      1748\n",
       "         ...  \n",
       "162.0       46\n",
       "155.0       46\n",
       "198.0       46\n",
       "204.0       44\n",
       "218.0       43\n",
       "225.0       37\n",
       "232.0       32\n",
       "239.0       27\n",
       "274.0       27\n",
       "334.0       25\n",
       "351.0       23\n",
       "267.0       22\n",
       "344.0       22\n",
       "246.0       22\n",
       "260.0       22\n",
       "309.0       21\n",
       "281.0       21\n",
       "323.0       21\n",
       "337.0       19\n",
       "330.0       18\n",
       "253.0       18\n",
       "360.0       16\n",
       "316.0       16\n",
       "302.0       16\n",
       "358.0       16\n",
       "295.0       12\n",
       "288.0       11\n",
       "321.0       11\n",
       "365.0       11\n",
       "366.0        2\n",
       "Name: Recency_of_DR_TXN, Length: 367, dtype: int64"
      ]
     },
     "execution_count": 337,
     "metadata": {},
     "output_type": "execute_result"
    }
   ],
   "source": [
    "trainbog.Recency_of_DR_TXN.value_counts()"
   ]
  },
  {
   "cell_type": "code",
   "execution_count": 354,
   "metadata": {},
   "outputs": [
    {
     "data": {
      "text/plain": [
       "0    100190\n",
       "1     27025\n",
       "Name: Responders, dtype: int64"
      ]
     },
     "execution_count": 354,
     "metadata": {},
     "output_type": "execute_result"
    }
   ],
   "source": [
    "dd2=trainbog.loc[trainbog[\"Recency_of_Activity\"]<8]\n",
    "#dd1=dd2.loc[dd2[\"CASH_WD_AMT_Last6\"]<5.0]\n",
    "dd2.Responders.value_counts()"
   ]
  },
  {
   "cell_type": "code",
   "execution_count": 358,
   "metadata": {
    "collapsed": true
   },
   "outputs": [],
   "source": [
    "testbog[\"Recency_of_Activity\"].loc[(testbog['Recency_of_Activity']<4)] = 1\n",
    "testbog[\"Recency_of_Activity\"].loc[(testbog['Recency_of_Activity']<10) & (testbog['Recency_of_Activity']>4)] = 2\n",
    "testbog[\"Recency_of_Activity\"].loc[(testbog['Recency_of_Activity']<25) & (testbog['Recency_of_Activity']>10)] = 3\n",
    "testbog[\"Recency_of_Activity\"].loc[(testbog['Recency_of_Activity']<75) & (testbog['Recency_of_Activity']>25)] = 4\n",
    "testbog[\"Recency_of_Activity\"].loc[(testbog['Recency_of_Activity']<365) & (testbog['Recency_of_Activity']>75)] = 5\n",
    "testbog[\"Recency_of_Activity\"].loc[ (testbog['Recency_of_Activity']>365)] = 6"
   ]
  },
  {
   "cell_type": "code",
   "execution_count": 357,
   "metadata": {
    "collapsed": true
   },
   "outputs": [],
   "source": [
    "trainbog[\"Recency_of_Activity\"].loc[(trainbog['Recency_of_Activity']<4)] = 1\n",
    "trainbog[\"Recency_of_Activity\"].loc[(trainbog['Recency_of_Activity']<10) & (trainbog['Recency_of_Activity']>4)] = 2\n",
    "trainbog[\"Recency_of_Activity\"].loc[(trainbog['Recency_of_Activity']<25) & (trainbog['Recency_of_Activity']>10)] = 3\n",
    "trainbog[\"Recency_of_Activity\"].loc[(trainbog['Recency_of_Activity']<75) & (trainbog['Recency_of_Activity']>25)] = 4\n",
    "trainbog[\"Recency_of_Activity\"].loc[(trainbog['Recency_of_Activity']<365) & (trainbog['Recency_of_Activity']>75)] = 5\n",
    "trainbog[\"Recency_of_Activity\"].loc[ (trainbog['Recency_of_Activity']>365)] = 6"
   ]
  },
  {
   "cell_type": "code",
   "execution_count": 222,
   "metadata": {},
   "outputs": [
    {
     "data": {
      "text/plain": [
       "184811.0"
      ]
     },
     "execution_count": 222,
     "metadata": {},
     "output_type": "execute_result"
    }
   ],
   "source": [
    "np.percentile(cf,100)"
   ]
  },
  {
   "cell_type": "code",
   "execution_count": 264,
   "metadata": {},
   "outputs": [
    {
     "data": {
      "text/plain": [
       "665001.00000000093"
      ]
     },
     "execution_count": 264,
     "metadata": {},
     "output_type": "execute_result"
    }
   ],
   "source": [
    "xc=trainbog.CASH_WD_AMT_Last6.values\n",
    "np.percentile(xc,99)"
   ]
  },
  {
   "cell_type": "code",
   "execution_count": 371,
   "metadata": {},
   "outputs": [
    {
     "data": {
      "text/plain": [
       " 0.000000        4594\n",
       "-50.000000        677\n",
       "-33.333333        662\n",
       " 100.000000       517\n",
       " 50.000000        450\n",
       "-66.666667        302\n",
       "-25.000000        260\n",
       " 200.000000       215\n",
       " 33.333333        194\n",
       " 150.000000       162\n",
       " 300.000000       158\n",
       "-60.000000        158\n",
       "-40.000000        152\n",
       " 66.666667        139\n",
       "-20.000000        139\n",
       " 400.000000       137\n",
       "-75.000000        133\n",
       " 25.000000        124\n",
       " 20.000000        111\n",
       "-80.000000        104\n",
       "-16.666667        100\n",
       " 500.000000        76\n",
       " 900.000000        72\n",
       " 40.000000         68\n",
       "-10.000000         67\n",
       "-42.857143         66\n",
       " 60.000000         66\n",
       "-70.000000         64\n",
       "-83.333333         63\n",
       "-37.500000         63\n",
       "                 ... \n",
       "-12.229283          1\n",
       "-37.905481          1\n",
       " 0.397580           1\n",
       " 35.464484          1\n",
       " 3.105048           1\n",
       " 155.609938         1\n",
       "-23.105858          1\n",
       "-64.730290          1\n",
       " 350.320167         1\n",
       " 4454.535420        1\n",
       "-97.481953          1\n",
       " 0.581661           1\n",
       " 1861.111111        1\n",
       " 26.010151          1\n",
       " 369.963984         1\n",
       " 974.492596         1\n",
       "-58.528893          1\n",
       " 19.016971          1\n",
       " 472.017385         1\n",
       " 320.345455         1\n",
       "-61.595880          1\n",
       "-68.913649          1\n",
       "-80.774194          1\n",
       "-58.770326          1\n",
       "-6.589976           1\n",
       " 10493.579570       1\n",
       " 136.185669         1\n",
       "-10.278893          1\n",
       "-32.760885          1\n",
       "-91.511718          1\n",
       "Name: Percent_Change_in_Credits, Length: 182119, dtype: int64"
      ]
     },
     "execution_count": 371,
     "metadata": {},
     "output_type": "execute_result"
    }
   ],
   "source": [
    "trainbog.Percent_Change_in_Credits.value_counts()"
   ]
  },
  {
   "cell_type": "code",
   "execution_count": 18,
   "metadata": {
    "collapsed": true
   },
   "outputs": [],
   "source": [
    "trainbog['CASH_WD_CNT_Last6'].loc[trainbog['CASH_WD_CNT_Last6']>1] = 1"
   ]
  },
  {
   "cell_type": "code",
   "execution_count": 33,
   "metadata": {
    "collapsed": true
   },
   "outputs": [],
   "source": [
    "testbog['CASH_WD_CNT_Last6'].loc[testbog['CASH_WD_CNT_Last6']>1] = 1"
   ]
  },
  {
   "cell_type": "code",
   "execution_count": null,
   "metadata": {
    "collapsed": true
   },
   "outputs": [],
   "source": []
  }
 ],
 "metadata": {
  "kernelspec": {
   "display_name": "Python 3",
   "language": "python",
   "name": "python3"
  },
  "language_info": {
   "codemirror_mode": {
    "name": "ipython",
    "version": 3
   },
   "file_extension": ".py",
   "mimetype": "text/x-python",
   "name": "python",
   "nbconvert_exporter": "python",
   "pygments_lexer": "ipython3",
   "version": "3.6.1"
  }
 },
 "nbformat": 4,
 "nbformat_minor": 2
}
